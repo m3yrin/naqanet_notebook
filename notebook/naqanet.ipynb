{
 "cells": [
  {
   "cell_type": "markdown",
   "metadata": {},
   "source": [
    "## Parameters"
   ]
  },
  {
   "cell_type": "code",
   "execution_count": null,
   "metadata": {},
   "outputs": [],
   "source": [
    "ROOT_DIR = \"../\"\n",
    "\n",
    "# for dataloader\n",
    "TEXT_LENGTH_LIMIT = 512\n",
    "\n",
    "# for vocab\n",
    "MIN_COUNT = 2\n",
    "\n",
    "# for model\n",
    "EMBEDDING_DIM = 256\n",
    "HIDDEN_DIM = 256\n",
    "NUM_ATTENTION_HEADS = 8\n",
    "NUM_LAYERS = 2\n",
    "\n",
    "# for training\n",
    "BATCH_SIZE = 8\n",
    "LR = 1e-4\n",
    "EPOCHS = 100\n",
    "PATIENCE = 4"
   ]
  },
  {
   "cell_type": "markdown",
   "metadata": {},
   "source": [
    "## Packages"
   ]
  },
  {
   "cell_type": "code",
   "execution_count": null,
   "metadata": {
    "colab": {},
    "colab_type": "code",
    "id": "c2dS96Yk3Z7Z"
   },
   "outputs": [],
   "source": [
    "import itertools\n",
    "from overrides import overrides\n",
    "\n",
    "import numpy as np\n",
    "import pandas as pd\n",
    "\n",
    "from typing import *\n",
    "\n",
    "import torch\n",
    "import torch.nn as nn\n",
    "import torch.optim as optim"
   ]
  },
  {
   "cell_type": "markdown",
   "metadata": {
    "colab_type": "text",
    "id": "I8sN8vDQ3Z7k"
   },
   "source": [
    "## DropReader"
   ]
  },
  {
   "cell_type": "code",
   "execution_count": null,
   "metadata": {
    "colab": {},
    "colab_type": "code",
    "id": "IG38I6wVp8mQ"
   },
   "outputs": [],
   "source": [
    "from allennlp.data.dataset_readers.reading_comprehension.drop import DropReader\n",
    "\n",
    "reader = DropReader(passage_length_limit = TEXT_LENGTH_LIMIT, question_length_limit = TEXT_LENGTH_LIMIT)"
   ]
  },
  {
   "cell_type": "code",
   "execution_count": null,
   "metadata": {
    "colab": {
     "base_uri": "https://localhost:8080/",
     "height": 51
    },
    "colab_type": "code",
    "id": "zeoMnmk43Z74",
    "outputId": "00ce7976-a14e-4a13-f935-83043071f712"
   },
   "outputs": [],
   "source": [
    "train_dataset = reader.read(ROOT_DIR + \"data/drop_dataset/drop_dataset_train.json\")\n",
    "dev_dataset = reader.read(ROOT_DIR + \"data/drop_dataset/drop_dataset_dev.json\")"
   ]
  },
  {
   "cell_type": "code",
   "execution_count": null,
   "metadata": {
    "colab": {
     "base_uri": "https://localhost:8080/",
     "height": 170
    },
    "colab_type": "code",
    "id": "-wv4IYer4mot",
    "outputId": "e8760f48-66ed-4dfe-8d24-f740e7bac5bb"
   },
   "outputs": [],
   "source": [
    "#tmp = next(iter(train_dataset))\n",
    "#vars(tmp)"
   ]
  },
  {
   "cell_type": "markdown",
   "metadata": {},
   "source": [
    "## Model"
   ]
  },
  {
   "cell_type": "code",
   "execution_count": null,
   "metadata": {
    "colab": {
     "base_uri": "https://localhost:8080/",
     "height": 51
    },
    "colab_type": "code",
    "id": "7URDf1aA3Z8H",
    "outputId": "8e3f9a2f-dc9c-46e1-dcb7-ce83a7c118be"
   },
   "outputs": [],
   "source": [
    "from allennlp.data.vocabulary import Vocabulary\n",
    "\n",
    "vocab = Vocabulary.from_instances(train_dataset, min_count={'tokens': MIN_COUNT})\n",
    "vocab"
   ]
  },
  {
   "cell_type": "code",
   "execution_count": null,
   "metadata": {
    "colab": {},
    "colab_type": "code",
    "id": "5JVPsuB1qHNt"
   },
   "outputs": [],
   "source": [
    "from allennlp.modules.token_embedders import Embedding\n",
    "from allennlp.modules.text_field_embedders import BasicTextFieldEmbedder\n",
    "\n",
    "embedding = Embedding(num_embeddings=vocab.get_vocab_size('tokens'), embedding_dim=EMBEDDING_DIM)\n",
    "source_embedder = BasicTextFieldEmbedder({\"tokens\": embedding})"
   ]
  },
  {
   "cell_type": "code",
   "execution_count": null,
   "metadata": {
    "colab": {},
    "colab_type": "code",
    "id": "KsYp6DfWiZB6"
   },
   "outputs": [],
   "source": [
    "from allennlp.modules.seq2seq_encoders import StackedSelfAttentionEncoder\n",
    "\n",
    "encoder = StackedSelfAttentionEncoder(input_dim=EMBEDDING_DIM, \n",
    "                                      hidden_dim=HIDDEN_DIM, \n",
    "                                      projection_dim=HIDDEN_DIM, \n",
    "                                      feedforward_hidden_dim=HIDDEN_DIM, \n",
    "                                      num_layers=NUM_LAYERS, \n",
    "                                      num_attention_heads=NUM_ATTENTION_HEADS\n",
    "                                      )"
   ]
  },
  {
   "cell_type": "code",
   "execution_count": null,
   "metadata": {
    "colab": {},
    "colab_type": "code",
    "id": "lNXTNm8C3Z8g"
   },
   "outputs": [],
   "source": [
    "from allennlp.models.reading_comprehension.naqanet import NumericallyAugmentedQaNet\n",
    "from allennlp.modules.matrix_attention.dot_product_matrix_attention import DotProductMatrixAttention\n",
    "\n",
    "model = NumericallyAugmentedQaNet(vocab = vocab,\n",
    "                                  text_field_embedder = source_embedder, \n",
    "                                  num_highway_layers = 2,\n",
    "                                  phrase_layer = encoder, \n",
    "                                  matrix_attention_layer = DotProductMatrixAttention(),\n",
    "                                  modeling_layer = encoder\n",
    "                                 )\n"
   ]
  },
  {
   "cell_type": "code",
   "execution_count": null,
   "metadata": {
    "colab": {},
    "colab_type": "code",
    "id": "WKVfN_BH3Z8m"
   },
   "outputs": [],
   "source": [
    "from allennlp.data.iterators import BucketIterator\n",
    "\n",
    "optimizer = optim.Adam(model.parameters(), lr=LR)\n",
    "iterator = BucketIterator(batch_size=BATCH_SIZE, sorting_keys=[(\"passage\", \"num_tokens\")])\n",
    "iterator.index_with(vocab)"
   ]
  },
  {
   "cell_type": "code",
   "execution_count": null,
   "metadata": {
    "colab": {
     "base_uri": "https://localhost:8080/",
     "height": 34
    },
    "colab_type": "code",
    "id": "HBk8u0wD4zBl",
    "outputId": "444b7bfe-ac5f-4f3c-fbf9-3d3eba59abe5"
   },
   "outputs": [],
   "source": [
    "if torch.cuda.is_available():\n",
    "    print(\"cuda\")\n",
    "    cuda_device = 0\n",
    "    model = model.cuda(cuda_device)\n",
    "else:\n",
    "    print(\"cpu\")\n",
    "    cuda_device = -1"
   ]
  },
  {
   "cell_type": "markdown",
   "metadata": {},
   "source": [
    "## Training"
   ]
  },
  {
   "cell_type": "code",
   "execution_count": null,
   "metadata": {
    "colab": {},
    "colab_type": "code",
    "id": "AJ84rRMh3Z9T"
   },
   "outputs": [],
   "source": [
    "from allennlp.training.trainer import Trainer\n",
    "\n",
    "trainer = Trainer(model = model,\n",
    "                  optimizer = optimizer,\n",
    "                  iterator = iterator,\n",
    "                  train_dataset = train_dataset,\n",
    "                  validation_dataset = dev_dataset,\n",
    "                  patience = PATIENCE,\n",
    "                  num_epochs = EPOCHS,\n",
    "                  cuda_device = cuda_device\n",
    "                 )"
   ]
  },
  {
   "cell_type": "code",
   "execution_count": null,
   "metadata": {
    "colab": {
     "base_uri": "https://localhost:8080/",
     "height": 362
    },
    "colab_type": "code",
    "id": "j7czkpocRE1q",
    "outputId": "e4d812b7-b530-4079-8aa1-9f37a4d9cbf5"
   },
   "outputs": [],
   "source": [
    "trainer.train()"
   ]
  },
  {
   "cell_type": "markdown",
   "metadata": {},
   "source": [
    "## Saving"
   ]
  },
  {
   "cell_type": "code",
   "execution_count": null,
   "metadata": {},
   "outputs": [],
   "source": [
    "with open(ROOT_DIR + \"save/naqanet_model.th\", 'wb') as f:\n",
    "    torch.save(model.state_dict(), f)"
   ]
  },
  {
   "cell_type": "code",
   "execution_count": null,
   "metadata": {},
   "outputs": [],
   "source": [
    "vocab.save_to_files(ROOT_DIR + \"save/naqanet_vocabulary\")"
   ]
  },
  {
   "cell_type": "markdown",
   "metadata": {},
   "source": [
    "## Results"
   ]
  },
  {
   "cell_type": "code",
   "execution_count": null,
   "metadata": {},
   "outputs": [],
   "source": [
    "vocab2 = Vocabulary.from_files(ROOT_DIR + \"save/naqanet_vocabulary\")\n",
    "\n",
    "model2 = NumericallyAugmentedQaNet(vocab = vocab2,\n",
    "                                  text_field_embedder = source_embedder, \n",
    "                                  num_highway_layers = 2,\n",
    "                                  phrase_layer = encoder, \n",
    "                                  matrix_attention_layer = DotProductMatrixAttention(),\n",
    "                                  modeling_layer = encoder\n",
    "                                 )\n",
    "\n",
    "with open(ROOT_DIR + \"save/naqanet_model.th\", 'rb') as f:\n",
    "    model2.load_state_dict(torch.load(f))\n",
    "\n",
    "if cuda_device > -1:\n",
    "    model2.cuda(cuda_device)"
   ]
  },
  {
   "cell_type": "code",
   "execution_count": null,
   "metadata": {
    "colab": {},
    "colab_type": "code",
    "id": "TEBF-o2sRbrm"
   },
   "outputs": [],
   "source": [
    "from allennlp.predictors.predictor import Predictor\n",
    "\n",
    "predictor = Predictor(model2, reader)"
   ]
  },
  {
   "cell_type": "code",
   "execution_count": null,
   "metadata": {
    "colab": {
     "base_uri": "https://localhost:8080/",
     "height": 751
    },
    "colab_type": "code",
    "id": "W5ZYkpB32O_f",
    "outputId": "bd352fb2-18e8-4cda-a1c5-c9c1d63c5aa9"
   },
   "outputs": [],
   "source": [
    "for instance in itertools.islice(dev_dataset, 20):\n",
    "    ans = predictor.predict_instance(instance)['answer']\n",
    "    if 'value' in ans:\n",
    "        print('Passage:', instance.fields['passage'].tokens)\n",
    "        print('Question:', instance.fields['question'].tokens)\n",
    "        print('GOLD:', instance.fields['metadata'].metadata['answer_texts'])\n",
    "        print('PRED:', ans['value'])\n",
    "        print(\"=\" * 10)\n",
    "        print()"
   ]
  },
  {
   "cell_type": "code",
   "execution_count": null,
   "metadata": {
    "colab": {
     "base_uri": "https://localhost:8080/",
     "height": 1000
    },
    "colab_type": "code",
    "id": "cAVN79TeLYj1",
    "outputId": "e326e889-6457-4b61-83fc-2790b7a20f2b"
   },
   "outputs": [],
   "source": [
    "from allennlp.training.util import evaluate\n",
    "\n",
    "metrics = evaluate(model2, dev_dataset, iterator, cuda_device, batch_weight_key=\"\")"
   ]
  },
  {
   "cell_type": "code",
   "execution_count": null,
   "metadata": {
    "colab": {
     "base_uri": "https://localhost:8080/",
     "height": 68
    },
    "colab_type": "code",
    "id": "AuTB27dXL31K",
    "outputId": "ed2c5042-f8ad-46a3-aa6f-ed720af882b0"
   },
   "outputs": [],
   "source": [
    "print(metrics)"
   ]
  }
 ],
 "metadata": {
  "accelerator": "GPU",
  "colab": {
   "name": "naqanet.ipynb",
   "provenance": []
  },
  "kernelspec": {
   "display_name": "Python 3",
   "language": "python",
   "name": "python3"
  },
  "language_info": {
   "codemirror_mode": {
    "name": "ipython",
    "version": 3
   },
   "file_extension": ".py",
   "mimetype": "text/x-python",
   "name": "python",
   "nbconvert_exporter": "python",
   "pygments_lexer": "ipython3",
   "version": "3.7.5"
  }
 },
 "nbformat": 4,
 "nbformat_minor": 4
}
