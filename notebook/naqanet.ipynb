{
 "cells": [
  {
   "cell_type": "markdown",
   "metadata": {},
   "source": [
    "## Parameters"
   ]
  },
  {
   "cell_type": "code",
   "execution_count": 2,
   "metadata": {},
   "outputs": [],
   "source": [
    "# as is in https://github.com/allenai/allennlp/blob/master/training_config/naqanet.jsonnet\n",
    "\n",
    "ROOT_DIR = \"../\"\n",
    "\n",
    "# for dataloader\n",
    "TEXT_LENGTH_LIMIT_PASSAGE = 400\n",
    "TEXT_LENGTH_LIMIT_QUESTION = 50\n",
    "\n",
    "# for vocab\n",
    "MIN_COUNT = 2\n",
    "EMBEDDING_DIM = 300\n",
    "\n",
    "# for training\n",
    "BATCH_SIZE = 8\n",
    "LR = 5e-4\n",
    "EPOCHS = 50\n",
    "PATIENCE = 10"
   ]
  },
  {
   "cell_type": "markdown",
   "metadata": {},
   "source": [
    "## Packages"
   ]
  },
  {
   "cell_type": "code",
   "execution_count": 3,
   "metadata": {
    "colab": {},
    "colab_type": "code",
    "id": "c2dS96Yk3Z7Z"
   },
   "outputs": [],
   "source": [
    "import itertools\n",
    "from overrides import overrides\n",
    "\n",
    "import numpy as np\n",
    "import pandas as pd\n",
    "\n",
    "from typing import *\n",
    "\n",
    "import torch\n",
    "import torch.nn as nn\n",
    "import torch.optim as optim"
   ]
  },
  {
   "cell_type": "markdown",
   "metadata": {
    "colab_type": "text",
    "id": "I8sN8vDQ3Z7k"
   },
   "source": [
    "## DropReader"
   ]
  },
  {
   "cell_type": "code",
   "execution_count": 4,
   "metadata": {
    "colab": {},
    "colab_type": "code",
    "id": "IG38I6wVp8mQ"
   },
   "outputs": [],
   "source": [
    "from allennlp.data.dataset_readers.reading_comprehension.drop import DropReader\n",
    "from allennlp.data.token_indexers import SingleIdTokenIndexer, TokenCharactersIndexer\n",
    "\n",
    "\n",
    "reader = DropReader(token_indexers = {\"tokens\": SingleIdTokenIndexer(lowercase_tokens = True), \n",
    "                                      \"token_characters\" : TokenCharactersIndexer(min_padding_length = 5)\n",
    "                                     },\n",
    "                    passage_length_limit = TEXT_LENGTH_LIMIT_PASSAGE, \n",
    "                    question_length_limit = TEXT_LENGTH_LIMIT_QUESTION\n",
    "                   )\n"
   ]
  },
  {
   "cell_type": "code",
   "execution_count": 5,
   "metadata": {
    "colab": {
     "base_uri": "https://localhost:8080/",
     "height": 51
    },
    "colab_type": "code",
    "id": "zeoMnmk43Z74",
    "outputId": "00ce7976-a14e-4a13-f935-83043071f712"
   },
   "outputs": [
    {
     "name": "stderr",
     "output_type": "stream",
     "text": [
      "77409it [01:38, 787.04it/s] \n",
      "9536it [00:09, 976.61it/s] \n"
     ]
    }
   ],
   "source": [
    "train_dataset = reader.read(ROOT_DIR + \"data/drop_dataset/drop_dataset_train.json\")\n",
    "dev_dataset = reader.read(ROOT_DIR + \"data/drop_dataset/drop_dataset_dev.json\")"
   ]
  },
  {
   "cell_type": "code",
   "execution_count": 6,
   "metadata": {
    "colab": {
     "base_uri": "https://localhost:8080/",
     "height": 170
    },
    "colab_type": "code",
    "id": "-wv4IYer4mot",
    "outputId": "e8760f48-66ed-4dfe-8d24-f740e7bac5bb"
   },
   "outputs": [],
   "source": [
    "#vars(vars(train_dataset[0].fields[\"question\"])['_token_indexers']['tokens'])\n",
    "\n",
    "#tmp = next(iter(train_dataset))\n",
    "#vars(vars(tmp)['fields']['passage'])"
   ]
  },
  {
   "cell_type": "markdown",
   "metadata": {},
   "source": [
    "## Model"
   ]
  },
  {
   "cell_type": "code",
   "execution_count": 7,
   "metadata": {
    "colab": {
     "base_uri": "https://localhost:8080/",
     "height": 51
    },
    "colab_type": "code",
    "id": "7URDf1aA3Z8H",
    "outputId": "8e3f9a2f-dc9c-46e1-dcb7-ce83a7c118be"
   },
   "outputs": [
    {
     "name": "stderr",
     "output_type": "stream",
     "text": [
      "100%|██████████| 77409/77409 [01:09<00:00, 1115.24it/s]\n",
      "1702926it [00:28, 60353.26it/s]\n"
     ]
    },
    {
     "data": {
      "text/plain": [
       "Vocabulary with namespaces:  tokens, Size: 37918 || token_characters, Size: 120 || Non Padded Namespaces: {'*tags', '*labels'}"
      ]
     },
     "execution_count": 7,
     "metadata": {},
     "output_type": "execute_result"
    }
   ],
   "source": [
    "from allennlp.data.vocabulary import Vocabulary\n",
    "\n",
    "#vocab = Vocabulary.from_instances(train_dataset, min_count={'tokens': MIN_COUNT})\n",
    "vocab = Vocabulary.from_instances(train_dataset, \n",
    "                                  min_count={\"token_characters\": 200},\n",
    "                                  pretrained_files = {\"tokens\": \"https://allennlp.s3.amazonaws.com/datasets/glove/glove.840B.300d.lower.converted.zip\"},\n",
    "                                  only_include_pretrained_words = True\n",
    "                                 )\n",
    "vocab"
   ]
  },
  {
   "cell_type": "code",
   "execution_count": 8,
   "metadata": {
    "colab": {},
    "colab_type": "code",
    "id": "5JVPsuB1qHNt"
   },
   "outputs": [
    {
     "name": "stderr",
     "output_type": "stream",
     "text": [
      "1702926it [00:31, 54066.29it/s]\n"
     ]
    }
   ],
   "source": [
    "from allennlp.modules.token_embedders import Embedding,TokenCharactersEncoder\n",
    "from allennlp.modules.text_field_embedders import BasicTextFieldEmbedder\n",
    "from allennlp.common.params import Params\n",
    "\n",
    "\n",
    "\n",
    "#embedding = Embedding(num_embeddings=vocab.get_vocab_size('tokens'), embedding_dim=EMBEDDING_DIM)\n",
    "#source_embedder = BasicTextFieldEmbedder({\"tokens\": embedding})\n",
    "\n",
    "char_embedding_params = Params({\n",
    "    'embedding': {\"embedding_dim\": 64},\n",
    "    'encoder': {\"type\": \"cnn\",\n",
    "                \"embedding_dim\": 64,\n",
    "                \"num_filters\": 200,\n",
    "                \"ngram_filter_sizes\": [5]\n",
    "               }\n",
    "})\n",
    "\n",
    "word_embedding_params = Params({\n",
    "    'pretrained_file': \"https://allennlp.s3.amazonaws.com/datasets/glove/glove.840B.300d.lower.converted.zip\",\n",
    "    'embedding_dim': 300,\n",
    "    'trainable': False\n",
    "})\n",
    "\n",
    "word_embedding = Embedding.from_params(vocab, word_embedding_params)\n",
    "char_embedding = TokenCharactersEncoder.from_params(vocab, char_embedding_params)\n",
    "\n",
    "embedder = BasicTextFieldEmbedder({\"tokens\": word_embedding, \"token_characters\": char_embedding})\n"
   ]
  },
  {
   "cell_type": "code",
   "execution_count": 9,
   "metadata": {
    "colab": {},
    "colab_type": "code",
    "id": "KsYp6DfWiZB6"
   },
   "outputs": [],
   "source": [
    "from allennlp.modules.seq2seq_encoders import QaNetEncoder\n",
    "\n",
    "phrase_layer_encoder = QaNetEncoder(input_dim = 128,\n",
    "                                    hidden_dim = 128,\n",
    "                                    attention_projection_dim = 128,\n",
    "                                    feedforward_hidden_dim = 128,\n",
    "                                    num_blocks = 1,\n",
    "                                    num_convs_per_block = 4,\n",
    "                                    conv_kernel_size = 7,\n",
    "                                    num_attention_heads = 8,\n",
    "                                    dropout_prob = 0.1,\n",
    "                                    layer_dropout_undecayed_prob = 0.1,\n",
    "                                    attention_dropout_prob = 0\n",
    "                                    )\n",
    "\n",
    "modeling_layer_encoder = QaNetEncoder(input_dim = 128,\n",
    "                                    hidden_dim = 128,\n",
    "                                    attention_projection_dim = 128,\n",
    "                                    feedforward_hidden_dim = 128,\n",
    "                                    num_blocks = 6,\n",
    "                                    num_convs_per_block = 2,\n",
    "                                    conv_kernel_size = 5,\n",
    "                                    num_attention_heads = 8,\n",
    "                                    dropout_prob = 0.1,\n",
    "                                    layer_dropout_undecayed_prob = 0.1,\n",
    "                                    attention_dropout_prob = 0\n",
    "                                    )\n",
    "\n",
    "from allennlp.modules.matrix_attention.linear_matrix_attention import LinearMatrixAttention\n",
    "\n",
    "matrix_attention_layer = LinearMatrixAttention(tensor_1_dim = 128,\n",
    "                                               tensor_2_dim = 128,\n",
    "                                               combination = \"x,y,x*y\"\n",
    "                                              )"
   ]
  },
  {
   "cell_type": "code",
   "execution_count": 10,
   "metadata": {
    "colab": {},
    "colab_type": "code",
    "id": "lNXTNm8C3Z8g"
   },
   "outputs": [],
   "source": [
    "from allennlp.models.reading_comprehension.naqanet import NumericallyAugmentedQaNet\n",
    "\n",
    "model = NumericallyAugmentedQaNet(vocab = vocab,\n",
    "                                  text_field_embedder = embedder, \n",
    "                                  num_highway_layers = 2,\n",
    "                                  phrase_layer = phrase_layer_encoder, \n",
    "                                  matrix_attention_layer = matrix_attention_layer,\n",
    "                                  modeling_layer = modeling_layer_encoder\n",
    "                                 )"
   ]
  },
  {
   "cell_type": "code",
   "execution_count": 11,
   "metadata": {
    "colab": {},
    "colab_type": "code",
    "id": "WKVfN_BH3Z8m"
   },
   "outputs": [],
   "source": [
    "from allennlp.data.iterators import BucketIterator\n",
    "iterator = BucketIterator(batch_size=BATCH_SIZE, \n",
    "                          sorting_keys=[(\"passage\",\"num_tokens\"),\n",
    "                                        (\"question\",\"num_tokens\")],\n",
    "                          max_instances_in_memory = 600)\n",
    "\n",
    "iterator.index_with(vocab)"
   ]
  },
  {
   "cell_type": "code",
   "execution_count": 12,
   "metadata": {},
   "outputs": [],
   "source": [
    "optimizer = optim.Adam(model.parameters(), lr=LR, betas = [0.8, 0.999], eps = 1e-7 )"
   ]
  },
  {
   "cell_type": "code",
   "execution_count": 13,
   "metadata": {
    "colab": {
     "base_uri": "https://localhost:8080/",
     "height": 34
    },
    "colab_type": "code",
    "id": "HBk8u0wD4zBl",
    "outputId": "444b7bfe-ac5f-4f3c-fbf9-3d3eba59abe5"
   },
   "outputs": [
    {
     "name": "stdout",
     "output_type": "stream",
     "text": [
      "cuda\n"
     ]
    }
   ],
   "source": [
    "if torch.cuda.is_available():\n",
    "    print(\"cuda\")\n",
    "    cuda_device = 0\n",
    "    model = model.cuda(cuda_device)\n",
    "else:\n",
    "    print(\"cpu\")\n",
    "    cuda_device = -1"
   ]
  },
  {
   "cell_type": "markdown",
   "metadata": {},
   "source": [
    "## Training"
   ]
  },
  {
   "cell_type": "code",
   "execution_count": 14,
   "metadata": {
    "colab": {},
    "colab_type": "code",
    "id": "AJ84rRMh3Z9T"
   },
   "outputs": [],
   "source": [
    "from allennlp.training.trainer import Trainer\n",
    "\n",
    "trainer = Trainer(model = model,\n",
    "                  optimizer = optimizer,\n",
    "                  iterator = iterator,\n",
    "                  train_dataset = train_dataset,\n",
    "                  validation_dataset = dev_dataset,\n",
    "                  patience = PATIENCE,\n",
    "                  validation_metric = \"+f1\",\n",
    "                  num_epochs = EPOCHS,\n",
    "                  cuda_device = cuda_device\n",
    "                 )"
   ]
  },
  {
   "cell_type": "code",
   "execution_count": 15,
   "metadata": {
    "colab": {
     "base_uri": "https://localhost:8080/",
     "height": 362
    },
    "colab_type": "code",
    "id": "j7czkpocRE1q",
    "outputId": "e4d812b7-b530-4079-8aa1-9f37a4d9cbf5"
   },
   "outputs": [
    {
     "name": "stderr",
     "output_type": "stream",
     "text": [
      "em: 0.1182, f1: 0.1485, loss: 1093317.9238 ||: 100%|██████████| 9677/9677 [1:28:00<00:00,  1.83it/s] \n",
      "em: 0.1758, f1: 0.2114, loss: 1986160.8119 ||: 100%|██████████| 1192/1192 [04:01<00:00,  4.95it/s]\n",
      "em: 0.1669, f1: 0.2007, loss: 1093317.2938 ||: 100%|██████████| 9677/9677 [1:27:24<00:00,  1.85it/s]\n",
      "em: 0.1912, f1: 0.2319, loss: 1986160.5231 ||: 100%|██████████| 1192/1192 [03:45<00:00,  5.29it/s]\n",
      "em: 0.2090, f1: 0.2455, loss: 1093317.0304 ||: 100%|██████████| 9677/9677 [1:27:19<00:00,  1.85it/s] \n",
      "em: 0.2457, f1: 0.2797, loss: 1986160.4187 ||: 100%|██████████| 1192/1192 [03:45<00:00,  5.29it/s]\n",
      "em: 0.2373, f1: 0.2745, loss: 1093316.8601 ||: 100%|██████████| 9677/9677 [1:27:06<00:00,  1.85it/s]\n",
      "em: 0.2537, f1: 0.2864, loss: 1986160.2655 ||: 100%|██████████| 1192/1192 [03:45<00:00,  5.29it/s]\n",
      "em: 0.2610, f1: 0.3009, loss: 1093316.7173 ||: 100%|██████████| 9677/9677 [1:26:59<00:00,  1.85it/s] \n",
      "em: 0.2711, f1: 0.3074, loss: 1986160.1613 ||: 100%|██████████| 1192/1192 [03:46<00:00,  5.26it/s]\n",
      "em: 0.2797, f1: 0.3211, loss: 1093316.5908 ||: 100%|██████████| 9677/9677 [1:26:56<00:00,  1.85it/s]\n",
      "em: 0.2898, f1: 0.3235, loss: 1986160.1106 ||: 100%|██████████| 1192/1192 [03:44<00:00,  5.30it/s]\n",
      "em: 0.2994, f1: 0.3420, loss: 1093316.4840 ||: 100%|██████████| 9677/9677 [1:27:03<00:00,  1.85it/s] \n",
      "em: 0.3243, f1: 0.3608, loss: 1986159.9806 ||: 100%|██████████| 1192/1192 [03:44<00:00,  5.30it/s]\n",
      "em: 0.3167, f1: 0.3611, loss: 1093316.3918 ||: 100%|██████████| 9677/9677 [1:27:02<00:00,  1.85it/s]\n",
      "em: 0.3501, f1: 0.3886, loss: 1986159.9170 ||: 100%|██████████| 1192/1192 [03:45<00:00,  5.28it/s]\n",
      "em: 0.3282, f1: 0.3738, loss: 1093316.3180 ||: 100%|██████████| 9677/9677 [1:27:03<00:00,  1.85it/s]\n",
      "em: 0.3407, f1: 0.3803, loss: 1986159.8288 ||: 100%|██████████| 1192/1192 [03:47<00:00,  5.23it/s]\n",
      "em: 0.3397, f1: 0.3853, loss: 1093316.2500 ||: 100%|██████████| 9677/9677 [1:26:43<00:00,  1.86it/s]\n",
      "em: 0.3706, f1: 0.4073, loss: 1986159.7999 ||: 100%|██████████| 1192/1192 [03:46<00:00,  5.27it/s]\n",
      "em: 0.3486, f1: 0.3951, loss: 1093316.1940 ||: 100%|██████████| 9677/9677 [1:26:20<00:00,  1.87it/s]\n",
      "em: 0.3673, f1: 0.4072, loss: 1986159.8259 ||: 100%|██████████| 1192/1192 [03:44<00:00,  5.32it/s]\n",
      "em: 0.3582, f1: 0.4052, loss: 1093316.1568 ||: 100%|██████████| 9677/9677 [1:24:59<00:00,  1.90it/s]\n",
      "em: 0.3742, f1: 0.4112, loss: 1986159.7597 ||: 100%|██████████| 1192/1192 [03:43<00:00,  5.34it/s]\n",
      "em: 0.3618, f1: 0.4091, loss: 1093316.1158 ||: 100%|██████████| 9677/9677 [1:25:06<00:00,  1.89it/s]\n",
      "em: 0.3877, f1: 0.4272, loss: 1986159.8065 ||: 100%|██████████| 1192/1192 [03:44<00:00,  5.31it/s]\n",
      "em: 0.3686, f1: 0.4164, loss: 1093316.0845 ||: 100%|██████████| 9677/9677 [1:25:04<00:00,  1.90it/s]\n",
      "em: 0.3839, f1: 0.4245, loss: 1986159.7160 ||: 100%|██████████| 1192/1192 [03:45<00:00,  5.29it/s]\n",
      "em: 0.3728, f1: 0.4212, loss: 1093316.0532 ||: 100%|██████████| 9677/9677 [1:25:06<00:00,  1.89it/s]\n",
      "em: 0.4014, f1: 0.4420, loss: 1986159.7942 ||: 100%|██████████| 1192/1192 [03:42<00:00,  5.35it/s]\n",
      "em: 0.3788, f1: 0.4263, loss: 1093316.0251 ||: 100%|██████████| 9677/9677 [1:24:58<00:00,  1.90it/s]\n",
      "em: 0.4004, f1: 0.4371, loss: 1986159.7603 ||: 100%|██████████| 1192/1192 [03:45<00:00,  5.29it/s]\n",
      "em: 0.3817, f1: 0.4305, loss: 1093316.0095 ||: 100%|██████████| 9677/9677 [1:24:50<00:00,  1.90it/s]\n",
      "em: 0.3876, f1: 0.4271, loss: 1986159.8450 ||: 100%|██████████| 1192/1192 [03:43<00:00,  5.33it/s]\n",
      "em: 0.3865, f1: 0.4349, loss: 1093315.9771 ||: 100%|██████████| 9677/9677 [1:24:57<00:00,  1.90it/s]\n",
      "em: 0.3926, f1: 0.4328, loss: 1986159.7592 ||: 100%|██████████| 1192/1192 [03:44<00:00,  5.31it/s]\n",
      "em: 0.3895, f1: 0.4386, loss: 1093315.9648 ||: 100%|██████████| 9677/9677 [1:25:30<00:00,  1.89it/s]\n",
      "em: 0.3995, f1: 0.4412, loss: 1986159.8420 ||: 100%|██████████| 1192/1192 [03:45<00:00,  5.30it/s]\n",
      "em: 0.3910, f1: 0.4397, loss: 1093315.9382 ||: 100%|██████████| 9677/9677 [1:25:37<00:00,  1.88it/s]\n",
      "em: 0.4089, f1: 0.4500, loss: 1986159.7890 ||: 100%|██████████| 1192/1192 [03:46<00:00,  5.26it/s]\n",
      "em: 0.3944, f1: 0.4434, loss: 1093315.9413 ||: 100%|██████████| 9677/9677 [1:25:30<00:00,  1.89it/s]\n",
      "em: 0.4098, f1: 0.4490, loss: 1986159.7945 ||: 100%|██████████| 1192/1192 [03:46<00:00,  5.26it/s]\n",
      "em: 0.3991, f1: 0.4472, loss: 1093315.9196 ||: 100%|██████████| 9677/9677 [1:25:33<00:00,  1.88it/s]\n",
      "em: 0.4066, f1: 0.4438, loss: 1986159.7274 ||: 100%|██████████| 1192/1192 [03:45<00:00,  5.30it/s]\n",
      "em: 0.4003, f1: 0.4492, loss: 1093315.9081 ||: 100%|██████████| 9677/9677 [1:25:28<00:00,  1.89it/s]\n",
      "em: 0.4181, f1: 0.4549, loss: 1986159.8030 ||: 100%|██████████| 1192/1192 [03:45<00:00,  5.29it/s]\n",
      "em: 0.4030, f1: 0.4518, loss: 1093315.8766 ||: 100%|██████████| 9677/9677 [1:25:35<00:00,  1.88it/s]\n",
      "em: 0.4069, f1: 0.4456, loss: 1986159.6781 ||: 100%|██████████| 1192/1192 [03:46<00:00,  5.27it/s]\n",
      "em: 0.4005, f1: 0.4497, loss: 1093315.8879 ||: 100%|██████████| 9677/9677 [1:25:32<00:00,  1.89it/s]\n",
      "em: 0.4069, f1: 0.4467, loss: 1986159.7655 ||: 100%|██████████| 1192/1192 [03:46<00:00,  5.27it/s]\n",
      "em: 0.4050, f1: 0.4542, loss: 1093315.8639 ||: 100%|██████████| 9677/9677 [1:25:29<00:00,  1.89it/s]\n",
      "em: 0.4133, f1: 0.4522, loss: 1986159.7141 ||: 100%|██████████| 1192/1192 [03:43<00:00,  5.33it/s]\n",
      "em: 0.4046, f1: 0.4539, loss: 1093315.8560 ||: 100%|██████████| 9677/9677 [1:27:21<00:00,  1.85it/s]\n",
      "em: 0.4187, f1: 0.4583, loss: 1986159.6713 ||: 100%|██████████| 1192/1192 [03:49<00:00,  5.20it/s]\n",
      "em: 0.4097, f1: 0.4591, loss: 1093315.8395 ||: 100%|██████████| 9677/9677 [1:26:34<00:00,  1.86it/s]\n",
      "em: 0.3993, f1: 0.4408, loss: 1986159.8081 ||: 100%|██████████| 1192/1192 [03:47<00:00,  5.24it/s]\n",
      "em: 0.4092, f1: 0.4593, loss: 1093315.8278 ||: 100%|██████████| 9677/9677 [1:26:54<00:00,  1.86it/s]\n",
      "em: 0.4287, f1: 0.4700, loss: 1986159.8393 ||: 100%|██████████| 1192/1192 [03:47<00:00,  5.24it/s]\n",
      "em: 0.4065, f1: 0.4566, loss: 1093315.8359 ||: 100%|██████████| 9677/9677 [1:26:39<00:00,  1.86it/s]\n",
      "em: 0.4166, f1: 0.4573, loss: 1986159.8106 ||: 100%|██████████| 1192/1192 [03:47<00:00,  5.24it/s]\n",
      "em: 0.4108, f1: 0.4605, loss: 1093315.8330 ||: 100%|██████████| 9677/9677 [1:26:47<00:00,  1.86it/s]\n",
      "em: 0.4119, f1: 0.4565, loss: 1986159.7858 ||: 100%|██████████| 1192/1192 [03:46<00:00,  5.27it/s]\n",
      "em: 0.4135, f1: 0.4628, loss: 1093315.8173 ||: 100%|██████████| 9677/9677 [1:26:38<00:00,  1.86it/s]\n",
      "em: 0.4196, f1: 0.4597, loss: 1986159.7616 ||: 100%|██████████| 1192/1192 [03:47<00:00,  5.25it/s]\n",
      "em: 0.4119, f1: 0.4625, loss: 1093315.8138 ||: 100%|██████████| 9677/9677 [1:26:36<00:00,  1.86it/s]\n",
      "em: 0.4247, f1: 0.4637, loss: 1986159.7950 ||: 100%|██████████| 1192/1192 [03:48<00:00,  5.23it/s]\n",
      "em: 0.4152, f1: 0.4652, loss: 1093315.8027 ||: 100%|██████████| 9677/9677 [1:26:38<00:00,  1.86it/s]\n",
      "em: 0.4163, f1: 0.4561, loss: 1986159.6732 ||: 100%|██████████| 1192/1192 [03:49<00:00,  5.19it/s]\n",
      "em: 0.4107, f1: 0.4602, loss: 1093315.8305 ||: 100%|██████████| 9677/9677 [1:26:39<00:00,  1.86it/s]\n",
      "em: 0.4085, f1: 0.4491, loss: 1986159.7122 ||: 100%|██████████| 1192/1192 [03:48<00:00,  5.21it/s]\n",
      "em: 0.4136, f1: 0.4637, loss: 1093315.8009 ||: 100%|██████████| 9677/9677 [1:26:38<00:00,  1.86it/s]\n",
      "em: 0.4291, f1: 0.4696, loss: 1986159.7705 ||: 100%|██████████| 1192/1192 [03:46<00:00,  5.27it/s]\n",
      "em: 0.4121, f1: 0.4622, loss: 1093315.8207 ||: 100%|██████████| 9677/9677 [1:26:31<00:00,  1.86it/s]\n",
      "em: 0.4259, f1: 0.4630, loss: 1986159.6530 ||: 100%|██████████| 1192/1192 [03:47<00:00,  5.24it/s]\n",
      "em: 0.4176, f1: 0.4675, loss: 1093315.7952 ||: 100%|██████████| 9677/9677 [1:26:43<00:00,  1.86it/s]\n",
      "em: 0.4185, f1: 0.4556, loss: 1986159.7483 ||: 100%|██████████| 1192/1192 [03:49<00:00,  5.20it/s]\n",
      "em: 0.4161, f1: 0.4660, loss: 1093315.7826 ||: 100%|██████████| 9677/9677 [1:26:33<00:00,  1.86it/s]\n",
      "em: 0.4188, f1: 0.4571, loss: 1986159.8781 ||: 100%|██████████| 1192/1192 [03:46<00:00,  5.26it/s]\n"
     ]
    },
    {
     "data": {
      "text/plain": [
       "{'best_epoch': 28,\n",
       " 'peak_cpu_memory_MB': 0,\n",
       " 'training_duration': '2 days, 9:01:32.943592',\n",
       " 'training_start_epoch': 0,\n",
       " 'training_epochs': 37,\n",
       " 'epoch': 37,\n",
       " 'training_em': 0.41761293906393315,\n",
       " 'training_f1': 0.467515017633601,\n",
       " 'training_loss': 1093315.7951999207,\n",
       " 'training_cpu_memory_MB': 0.0,\n",
       " 'validation_em': 0.4185192953020134,\n",
       " 'validation_f1': 0.45564282718120835,\n",
       " 'validation_loss': 1986159.748327336,\n",
       " 'best_validation_em': 0.4286912751677852,\n",
       " 'best_validation_f1': 0.4699538590604034,\n",
       " 'best_validation_loss': 1986159.8392908622}"
      ]
     },
     "execution_count": 15,
     "metadata": {},
     "output_type": "execute_result"
    }
   ],
   "source": [
    "trainer.train()"
   ]
  },
  {
   "cell_type": "markdown",
   "metadata": {},
   "source": [
    "## Saving"
   ]
  },
  {
   "cell_type": "code",
   "execution_count": 16,
   "metadata": {},
   "outputs": [],
   "source": [
    "with open(ROOT_DIR + \"save/naqanet_model.th\", 'wb') as f:\n",
    "    torch.save(model.state_dict(), f)"
   ]
  },
  {
   "cell_type": "code",
   "execution_count": 17,
   "metadata": {},
   "outputs": [],
   "source": [
    "vocab.save_to_files(ROOT_DIR + \"save/naqanet_vocabulary\")"
   ]
  },
  {
   "cell_type": "markdown",
   "metadata": {},
   "source": [
    "## Results"
   ]
  },
  {
   "cell_type": "code",
   "execution_count": 19,
   "metadata": {},
   "outputs": [],
   "source": [
    "vocab2 = Vocabulary.from_files(ROOT_DIR + \"save/naqanet_vocabulary\")\n",
    "\n",
    "model2 = NumericallyAugmentedQaNet(vocab = vocab2,\n",
    "                                  text_field_embedder = embedder, \n",
    "                                  num_highway_layers = 2,\n",
    "                                  phrase_layer = phrase_layer_encoder, \n",
    "                                  matrix_attention_layer = matrix_attention_layer,\n",
    "                                  modeling_layer = modeling_layer_encoder\n",
    "                                 )\n",
    "\n",
    "with open(ROOT_DIR + \"save/naqanet_model.th\", 'rb') as f:\n",
    "    model2.load_state_dict(torch.load(f))\n",
    "\n",
    "if cuda_device > -1:\n",
    "    model2.cuda(cuda_device)"
   ]
  },
  {
   "cell_type": "code",
   "execution_count": 20,
   "metadata": {
    "colab": {},
    "colab_type": "code",
    "id": "TEBF-o2sRbrm"
   },
   "outputs": [],
   "source": [
    "from allennlp.predictors.predictor import Predictor\n",
    "\n",
    "predictor = Predictor(model2, reader)"
   ]
  },
  {
   "cell_type": "code",
   "execution_count": 21,
   "metadata": {
    "colab": {
     "base_uri": "https://localhost:8080/",
     "height": 751
    },
    "colab_type": "code",
    "id": "W5ZYkpB32O_f",
    "outputId": "bd352fb2-18e8-4cda-a1c5-c9c1d63c5aa9"
   },
   "outputs": [
    {
     "name": "stdout",
     "output_type": "stream",
     "text": [
      "Passage: [Hoping, to, rebound, from, their, loss, to, the, Patriots, ,, the, Raiders, stayed, at, home, for, a, Week, 16, duel, with, the, Houston, Texans, ., Oakland, would, get, the, early, lead, in, the, first, quarter, as, quarterback, JaMarcus, Russell, completed, a, 20, -, yard, touchdown, pass, to, rookie, wide, receiver, Chaz, Schilens, ., The, Texans, would, respond, with, fullback, Vonta, Leach, getting, a, 1, -, yard, touchdown, run, ,, yet, the, Raiders, would, answer, with, kicker, Sebastian, Janikowski, getting, a, 33, -, yard, and, a, 30, -, yard, field, goal, ., Houston, would, tie, the, game, in, the, second, quarter, with, kicker, Kris, Brown, getting, a, 53, -, yard, and, a, 24, -, yard, field, goal, ., Oakland, would, take, the, lead, in, the, third, quarter, with, wide, receiver, Johnnie, Lee, Higgins, catching, a, 29, -, yard, touchdown, pass, from, Russell, ,, followed, up, by, an, 80, -, yard, punt, return, for, a, touchdown, ., The, Texans, tried, to, rally, in, the, fourth, quarter, as, Brown, nailed, a, 40, -, yard, field, goal, ,, yet, the, Raiders, ', defense, would, shut, down, any, possible, attempt, .]\n",
      "Question: [Who, scored, the, first, touchdown, of, the, game, ?]\n",
      "GOLD: ['Chaz Schilens']\n",
      "PRED: Chaz Schilens\n",
      "==========\n",
      "\n",
      "Passage: [Hoping, to, rebound, from, their, loss, to, the, Patriots, ,, the, Raiders, stayed, at, home, for, a, Week, 16, duel, with, the, Houston, Texans, ., Oakland, would, get, the, early, lead, in, the, first, quarter, as, quarterback, JaMarcus, Russell, completed, a, 20, -, yard, touchdown, pass, to, rookie, wide, receiver, Chaz, Schilens, ., The, Texans, would, respond, with, fullback, Vonta, Leach, getting, a, 1, -, yard, touchdown, run, ,, yet, the, Raiders, would, answer, with, kicker, Sebastian, Janikowski, getting, a, 33, -, yard, and, a, 30, -, yard, field, goal, ., Houston, would, tie, the, game, in, the, second, quarter, with, kicker, Kris, Brown, getting, a, 53, -, yard, and, a, 24, -, yard, field, goal, ., Oakland, would, take, the, lead, in, the, third, quarter, with, wide, receiver, Johnnie, Lee, Higgins, catching, a, 29, -, yard, touchdown, pass, from, Russell, ,, followed, up, by, an, 80, -, yard, punt, return, for, a, touchdown, ., The, Texans, tried, to, rally, in, the, fourth, quarter, as, Brown, nailed, a, 40, -, yard, field, goal, ,, yet, the, Raiders, ', defense, would, shut, down, any, possible, attempt, .]\n",
      "Question: [Which, team, won, the, game, ?]\n",
      "GOLD: ['Raiders']\n",
      "PRED: Raiders stayed at home for a Week 16 duel with the Houston Texans.  Oakland would get the early lead in the first quarter as quarterback JaMarcus Russell completed a 20-yard touchdown pass to rookie wide receiver Chaz Schilens.  The Texans would respond with fullback Vonta Leach getting a 1-yard touchdown run, yet the Raiders would answer with kicker Sebastian Janikowski getting a 33-yard and a 30-yard field goal.  Houston would tie the game in the second quarter with kicker Kris Brown getting a 53-yard and a 24-yard field goal. Oakland would take the lead in the third quarter with wide receiver Johnnie Lee Higgins catching a 29-yard touchdown pass from Russell, followed up by an 80-yard punt return for a touchdown.  The Texans\n",
      "==========\n",
      "\n",
      "Passage: [Hoping, to, rebound, from, their, loss, to, the, Patriots, ,, the, Raiders, stayed, at, home, for, a, Week, 16, duel, with, the, Houston, Texans, ., Oakland, would, get, the, early, lead, in, the, first, quarter, as, quarterback, JaMarcus, Russell, completed, a, 20, -, yard, touchdown, pass, to, rookie, wide, receiver, Chaz, Schilens, ., The, Texans, would, respond, with, fullback, Vonta, Leach, getting, a, 1, -, yard, touchdown, run, ,, yet, the, Raiders, would, answer, with, kicker, Sebastian, Janikowski, getting, a, 33, -, yard, and, a, 30, -, yard, field, goal, ., Houston, would, tie, the, game, in, the, second, quarter, with, kicker, Kris, Brown, getting, a, 53, -, yard, and, a, 24, -, yard, field, goal, ., Oakland, would, take, the, lead, in, the, third, quarter, with, wide, receiver, Johnnie, Lee, Higgins, catching, a, 29, -, yard, touchdown, pass, from, Russell, ,, followed, up, by, an, 80, -, yard, punt, return, for, a, touchdown, ., The, Texans, tried, to, rally, in, the, fourth, quarter, as, Brown, nailed, a, 40, -, yard, field, goal, ,, yet, the, Raiders, ', defense, would, shut, down, any, possible, attempt, .]\n",
      "Question: [How, many, more, yards, was, Kris, Browns, 's, first, field, goal, over, his, second, ?]\n",
      "GOLD: ['29']\n",
      "PRED: 29\n",
      "==========\n",
      "\n",
      "Passage: [Hoping, to, rebound, from, their, loss, to, the, Patriots, ,, the, Raiders, stayed, at, home, for, a, Week, 16, duel, with, the, Houston, Texans, ., Oakland, would, get, the, early, lead, in, the, first, quarter, as, quarterback, JaMarcus, Russell, completed, a, 20, -, yard, touchdown, pass, to, rookie, wide, receiver, Chaz, Schilens, ., The, Texans, would, respond, with, fullback, Vonta, Leach, getting, a, 1, -, yard, touchdown, run, ,, yet, the, Raiders, would, answer, with, kicker, Sebastian, Janikowski, getting, a, 33, -, yard, and, a, 30, -, yard, field, goal, ., Houston, would, tie, the, game, in, the, second, quarter, with, kicker, Kris, Brown, getting, a, 53, -, yard, and, a, 24, -, yard, field, goal, ., Oakland, would, take, the, lead, in, the, third, quarter, with, wide, receiver, Johnnie, Lee, Higgins, catching, a, 29, -, yard, touchdown, pass, from, Russell, ,, followed, up, by, an, 80, -, yard, punt, return, for, a, touchdown, ., The, Texans, tried, to, rally, in, the, fourth, quarter, as, Brown, nailed, a, 40, -, yard, field, goal, ,, yet, the, Raiders, ', defense, would, shut, down, any, possible, attempt, .]\n",
      "Question: [Who, threw, the, longest, pass, ?]\n",
      "GOLD: ['Russell']\n",
      "PRED: Johnnie Lee Higgins\n",
      "==========\n",
      "\n",
      "Passage: [Hoping, to, rebound, from, their, loss, to, the, Patriots, ,, the, Raiders, stayed, at, home, for, a, Week, 16, duel, with, the, Houston, Texans, ., Oakland, would, get, the, early, lead, in, the, first, quarter, as, quarterback, JaMarcus, Russell, completed, a, 20, -, yard, touchdown, pass, to, rookie, wide, receiver, Chaz, Schilens, ., The, Texans, would, respond, with, fullback, Vonta, Leach, getting, a, 1, -, yard, touchdown, run, ,, yet, the, Raiders, would, answer, with, kicker, Sebastian, Janikowski, getting, a, 33, -, yard, and, a, 30, -, yard, field, goal, ., Houston, would, tie, the, game, in, the, second, quarter, with, kicker, Kris, Brown, getting, a, 53, -, yard, and, a, 24, -, yard, field, goal, ., Oakland, would, take, the, lead, in, the, third, quarter, with, wide, receiver, Johnnie, Lee, Higgins, catching, a, 29, -, yard, touchdown, pass, from, Russell, ,, followed, up, by, an, 80, -, yard, punt, return, for, a, touchdown, ., The, Texans, tried, to, rally, in, the, fourth, quarter, as, Brown, nailed, a, 40, -, yard, field, goal, ,, yet, the, Raiders, ', defense, would, shut, down, any, possible, attempt, .]\n",
      "Question: [How, many, yards, was, the, longest, touchdown, of, the, game, ?]\n",
      "GOLD: ['80-yard']\n",
      "PRED: 80\n",
      "==========\n",
      "\n",
      "Passage: [Hoping, to, rebound, from, their, loss, to, the, Patriots, ,, the, Raiders, stayed, at, home, for, a, Week, 16, duel, with, the, Houston, Texans, ., Oakland, would, get, the, early, lead, in, the, first, quarter, as, quarterback, JaMarcus, Russell, completed, a, 20, -, yard, touchdown, pass, to, rookie, wide, receiver, Chaz, Schilens, ., The, Texans, would, respond, with, fullback, Vonta, Leach, getting, a, 1, -, yard, touchdown, run, ,, yet, the, Raiders, would, answer, with, kicker, Sebastian, Janikowski, getting, a, 33, -, yard, and, a, 30, -, yard, field, goal, ., Houston, would, tie, the, game, in, the, second, quarter, with, kicker, Kris, Brown, getting, a, 53, -, yard, and, a, 24, -, yard, field, goal, ., Oakland, would, take, the, lead, in, the, third, quarter, with, wide, receiver, Johnnie, Lee, Higgins, catching, a, 29, -, yard, touchdown, pass, from, Russell, ,, followed, up, by, an, 80, -, yard, punt, return, for, a, touchdown, ., The, Texans, tried, to, rally, in, the, fourth, quarter, as, Brown, nailed, a, 40, -, yard, field, goal, ,, yet, the, Raiders, ', defense, would, shut, down, any, possible, attempt, .]\n",
      "Question: [How, many, yards, difference, is, there, between, Sebastian, Janikowski, 's, longest, field, goal, and, his, shortest, field, goal, ?]\n",
      "GOLD: ['3']\n",
      "PRED: 3\n",
      "==========\n",
      "\n",
      "Passage: [Hoping, to, rebound, from, their, loss, to, the, Patriots, ,, the, Raiders, stayed, at, home, for, a, Week, 16, duel, with, the, Houston, Texans, ., Oakland, would, get, the, early, lead, in, the, first, quarter, as, quarterback, JaMarcus, Russell, completed, a, 20, -, yard, touchdown, pass, to, rookie, wide, receiver, Chaz, Schilens, ., The, Texans, would, respond, with, fullback, Vonta, Leach, getting, a, 1, -, yard, touchdown, run, ,, yet, the, Raiders, would, answer, with, kicker, Sebastian, Janikowski, getting, a, 33, -, yard, and, a, 30, -, yard, field, goal, ., Houston, would, tie, the, game, in, the, second, quarter, with, kicker, Kris, Brown, getting, a, 53, -, yard, and, a, 24, -, yard, field, goal, ., Oakland, would, take, the, lead, in, the, third, quarter, with, wide, receiver, Johnnie, Lee, Higgins, catching, a, 29, -, yard, touchdown, pass, from, Russell, ,, followed, up, by, an, 80, -, yard, punt, return, for, a, touchdown, ., The, Texans, tried, to, rally, in, the, fourth, quarter, as, Brown, nailed, a, 40, -, yard, field, goal, ,, yet, the, Raiders, ', defense, would, shut, down, any, possible, attempt, .]\n",
      "Question: [How, many, yards, difference, is, there, between, Kris, Brown, 's, longest, and, shortest, field, goals, ?]\n",
      "GOLD: ['29']\n",
      "PRED: 29\n",
      "==========\n",
      "\n",
      "Passage: [Hoping, to, rebound, from, their, loss, to, the, Patriots, ,, the, Raiders, stayed, at, home, for, a, Week, 16, duel, with, the, Houston, Texans, ., Oakland, would, get, the, early, lead, in, the, first, quarter, as, quarterback, JaMarcus, Russell, completed, a, 20, -, yard, touchdown, pass, to, rookie, wide, receiver, Chaz, Schilens, ., The, Texans, would, respond, with, fullback, Vonta, Leach, getting, a, 1, -, yard, touchdown, run, ,, yet, the, Raiders, would, answer, with, kicker, Sebastian, Janikowski, getting, a, 33, -, yard, and, a, 30, -, yard, field, goal, ., Houston, would, tie, the, game, in, the, second, quarter, with, kicker, Kris, Brown, getting, a, 53, -, yard, and, a, 24, -, yard, field, goal, ., Oakland, would, take, the, lead, in, the, third, quarter, with, wide, receiver, Johnnie, Lee, Higgins, catching, a, 29, -, yard, touchdown, pass, from, Russell, ,, followed, up, by, an, 80, -, yard, punt, return, for, a, touchdown, ., The, Texans, tried, to, rally, in, the, fourth, quarter, as, Brown, nailed, a, 40, -, yard, field, goal, ,, yet, the, Raiders, ', defense, would, shut, down, any, possible, attempt, .]\n",
      "Question: [How, many, yards, longer, was, the, 80, -, yard, punt, than, the, touchdown, pass, from, Russell, to, Johnnie, Lee, Higgins, ?]\n",
      "GOLD: ['51']\n",
      "PRED: 51\n",
      "==========\n",
      "\n",
      "Passage: [Hoping, to, rebound, from, their, loss, to, the, Patriots, ,, the, Raiders, stayed, at, home, for, a, Week, 16, duel, with, the, Houston, Texans, ., Oakland, would, get, the, early, lead, in, the, first, quarter, as, quarterback, JaMarcus, Russell, completed, a, 20, -, yard, touchdown, pass, to, rookie, wide, receiver, Chaz, Schilens, ., The, Texans, would, respond, with, fullback, Vonta, Leach, getting, a, 1, -, yard, touchdown, run, ,, yet, the, Raiders, would, answer, with, kicker, Sebastian, Janikowski, getting, a, 33, -, yard, and, a, 30, -, yard, field, goal, ., Houston, would, tie, the, game, in, the, second, quarter, with, kicker, Kris, Brown, getting, a, 53, -, yard, and, a, 24, -, yard, field, goal, ., Oakland, would, take, the, lead, in, the, third, quarter, with, wide, receiver, Johnnie, Lee, Higgins, catching, a, 29, -, yard, touchdown, pass, from, Russell, ,, followed, up, by, an, 80, -, yard, punt, return, for, a, touchdown, ., The, Texans, tried, to, rally, in, the, fourth, quarter, as, Brown, nailed, a, 40, -, yard, field, goal, ,, yet, the, Raiders, ', defense, would, shut, down, any, possible, attempt, .]\n",
      "Question: [How, many, yards, was, the, longest, passing, touchdown, ?]\n",
      "GOLD: ['29']\n",
      "PRED: 29\n",
      "==========\n",
      "\n",
      "Passage: [Hoping, to, rebound, from, their, loss, to, the, Patriots, ,, the, Raiders, stayed, at, home, for, a, Week, 16, duel, with, the, Houston, Texans, ., Oakland, would, get, the, early, lead, in, the, first, quarter, as, quarterback, JaMarcus, Russell, completed, a, 20, -, yard, touchdown, pass, to, rookie, wide, receiver, Chaz, Schilens, ., The, Texans, would, respond, with, fullback, Vonta, Leach, getting, a, 1, -, yard, touchdown, run, ,, yet, the, Raiders, would, answer, with, kicker, Sebastian, Janikowski, getting, a, 33, -, yard, and, a, 30, -, yard, field, goal, ., Houston, would, tie, the, game, in, the, second, quarter, with, kicker, Kris, Brown, getting, a, 53, -, yard, and, a, 24, -, yard, field, goal, ., Oakland, would, take, the, lead, in, the, third, quarter, with, wide, receiver, Johnnie, Lee, Higgins, catching, a, 29, -, yard, touchdown, pass, from, Russell, ,, followed, up, by, an, 80, -, yard, punt, return, for, a, touchdown, ., The, Texans, tried, to, rally, in, the, fourth, quarter, as, Brown, nailed, a, 40, -, yard, field, goal, ,, yet, the, Raiders, ', defense, would, shut, down, any, possible, attempt, .]\n",
      "Question: [How, many, yards, longer, was, the, longest, passing, touchdown, than, the, shortest, ?]\n",
      "GOLD: ['9']\n",
      "PRED: 9\n",
      "==========\n",
      "\n",
      "Passage: [Hoping, to, rebound, from, their, loss, to, the, Patriots, ,, the, Raiders, stayed, at, home, for, a, Week, 16, duel, with, the, Houston, Texans, ., Oakland, would, get, the, early, lead, in, the, first, quarter, as, quarterback, JaMarcus, Russell, completed, a, 20, -, yard, touchdown, pass, to, rookie, wide, receiver, Chaz, Schilens, ., The, Texans, would, respond, with, fullback, Vonta, Leach, getting, a, 1, -, yard, touchdown, run, ,, yet, the, Raiders, would, answer, with, kicker, Sebastian, Janikowski, getting, a, 33, -, yard, and, a, 30, -, yard, field, goal, ., Houston, would, tie, the, game, in, the, second, quarter, with, kicker, Kris, Brown, getting, a, 53, -, yard, and, a, 24, -, yard, field, goal, ., Oakland, would, take, the, lead, in, the, third, quarter, with, wide, receiver, Johnnie, Lee, Higgins, catching, a, 29, -, yard, touchdown, pass, from, Russell, ,, followed, up, by, an, 80, -, yard, punt, return, for, a, touchdown, ., The, Texans, tried, to, rally, in, the, fourth, quarter, as, Brown, nailed, a, 40, -, yard, field, goal, ,, yet, the, Raiders, ', defense, would, shut, down, any, possible, attempt, .]\n",
      "Question: [How, many, yards, was, the, longest, field, goal, in, the, game, ?]\n",
      "GOLD: ['53']\n",
      "PRED: 53\n",
      "==========\n",
      "\n",
      "Passage: [Hoping, to, rebound, from, their, loss, to, the, Patriots, ,, the, Raiders, stayed, at, home, for, a, Week, 16, duel, with, the, Houston, Texans, ., Oakland, would, get, the, early, lead, in, the, first, quarter, as, quarterback, JaMarcus, Russell, completed, a, 20, -, yard, touchdown, pass, to, rookie, wide, receiver, Chaz, Schilens, ., The, Texans, would, respond, with, fullback, Vonta, Leach, getting, a, 1, -, yard, touchdown, run, ,, yet, the, Raiders, would, answer, with, kicker, Sebastian, Janikowski, getting, a, 33, -, yard, and, a, 30, -, yard, field, goal, ., Houston, would, tie, the, game, in, the, second, quarter, with, kicker, Kris, Brown, getting, a, 53, -, yard, and, a, 24, -, yard, field, goal, ., Oakland, would, take, the, lead, in, the, third, quarter, with, wide, receiver, Johnnie, Lee, Higgins, catching, a, 29, -, yard, touchdown, pass, from, Russell, ,, followed, up, by, an, 80, -, yard, punt, return, for, a, touchdown, ., The, Texans, tried, to, rally, in, the, fourth, quarter, as, Brown, nailed, a, 40, -, yard, field, goal, ,, yet, the, Raiders, ', defense, would, shut, down, any, possible, attempt, .]\n",
      "Question: [How, many, yards, was, the, shortest, field, goal, in, the, game, ?]\n",
      "GOLD: ['24']\n",
      "PRED: 24\n",
      "==========\n",
      "\n",
      "Passage: [Hoping, to, rebound, from, their, loss, to, the, Patriots, ,, the, Raiders, stayed, at, home, for, a, Week, 16, duel, with, the, Houston, Texans, ., Oakland, would, get, the, early, lead, in, the, first, quarter, as, quarterback, JaMarcus, Russell, completed, a, 20, -, yard, touchdown, pass, to, rookie, wide, receiver, Chaz, Schilens, ., The, Texans, would, respond, with, fullback, Vonta, Leach, getting, a, 1, -, yard, touchdown, run, ,, yet, the, Raiders, would, answer, with, kicker, Sebastian, Janikowski, getting, a, 33, -, yard, and, a, 30, -, yard, field, goal, ., Houston, would, tie, the, game, in, the, second, quarter, with, kicker, Kris, Brown, getting, a, 53, -, yard, and, a, 24, -, yard, field, goal, ., Oakland, would, take, the, lead, in, the, third, quarter, with, wide, receiver, Johnnie, Lee, Higgins, catching, a, 29, -, yard, touchdown, pass, from, Russell, ,, followed, up, by, an, 80, -, yard, punt, return, for, a, touchdown, ., The, Texans, tried, to, rally, in, the, fourth, quarter, as, Brown, nailed, a, 40, -, yard, field, goal, ,, yet, the, Raiders, ', defense, would, shut, down, any, possible, attempt, .]\n",
      "Question: [How, many, yards, longer, was, the, longest, field, goal, than, the, shortest, ?]\n",
      "GOLD: ['29']\n",
      "PRED: 29\n",
      "==========\n",
      "\n",
      "Passage: [Still, searching, for, their, first, win, ,, the, Bengals, flew, to, Texas, Stadium, for, a, Week, 5, interconference, duel, with, the, Dallas, Cowboys, ., In, the, first, quarter, ,, Cincinnati, trailed, early, as, Cowboys, kicker, Nick, Folk, got, a, 30, -, yard, field, goal, ,, along, with, RB, Felix, Jones, getting, a, 33, -, yard, TD, run, ., In, the, second, quarter, ,, Dallas, increased, its, lead, as, QB, Tony, Romo, completed, a, 4, -, yard, TD, pass, to, TE, Jason, Witten, ., The, Bengals, would, end, the, half, with, kicker, Shayne, Graham, getting, a, 41, -, yard, and, a, 31, -, yard, field, goal, ., In, the, third, quarter, ,, Cincinnati, tried, to, rally, as, QB, Carson, Palmer, completed, an, 18, -, yard, TD, pass, to, WR, T., J., Houshmandzadeh, ., In, the, fourth, quarter, ,, the, Bengals, got, closer, as, Graham, got, a, 40, -, yard, field, goal, ,, yet, the, Cowboys, answered, with, Romo, completing, a, 57, -, yard, TD, pass, to, WR, Terrell, Owens, ., Cincinnati, tried, to, come, back, as, Palmer, completed, a, 10, -, yard, TD, pass, to, Houshmandzadeh, (, with, a, failed, 2, -, point, conversion, ), ,, but, Dallas, pulled, away, with, Romo, completing, a, 15, -, yard, TD, pass, to, WR, Patrick, Crayton, .]\n",
      "Question: [Which, Bengals, receiver, scored, two, touchdowns, ?]\n",
      "GOLD: ['T. J. Houshmandzadeh']\n",
      "PRED: Jason Witten\n",
      "==========\n",
      "\n"
     ]
    }
   ],
   "source": [
    "for instance in itertools.islice(dev_dataset, 20):\n",
    "    ans = predictor.predict_instance(instance)['answer']\n",
    "    if 'value' in ans:\n",
    "        print('Passage:', instance.fields['passage'].tokens)\n",
    "        print('Question:', instance.fields['question'].tokens)\n",
    "        print('GOLD:', instance.fields['metadata'].metadata['answer_texts'])\n",
    "        print('PRED:', ans['value'])\n",
    "        print(\"=\" * 10)\n",
    "        print()"
   ]
  },
  {
   "cell_type": "code",
   "execution_count": 22,
   "metadata": {
    "colab": {
     "base_uri": "https://localhost:8080/",
     "height": 1000
    },
    "colab_type": "code",
    "id": "cAVN79TeLYj1",
    "outputId": "e326e889-6457-4b61-83fc-2790b7a20f2b"
   },
   "outputs": [
    {
     "name": "stderr",
     "output_type": "stream",
     "text": [
      "em: 0.42, f1: 0.46, loss: 1986159.87 ||: 100%|██████████| 1192/1192 [03:52<00:00,  5.12it/s]\n"
     ]
    }
   ],
   "source": [
    "from allennlp.training.util import evaluate\n",
    "\n",
    "metrics = evaluate(model2, dev_dataset, iterator, cuda_device, batch_weight_key=\"\")"
   ]
  },
  {
   "cell_type": "code",
   "execution_count": 23,
   "metadata": {
    "colab": {
     "base_uri": "https://localhost:8080/",
     "height": 68
    },
    "colab_type": "code",
    "id": "AuTB27dXL31K",
    "outputId": "ed2c5042-f8ad-46a3-aa6f-ed720af882b0"
   },
   "outputs": [
    {
     "name": "stdout",
     "output_type": "stream",
     "text": [
      "{'em': 0.41900376726663874, 'f1': 0.4572833821682715, 'loss': 1986159.865894376}\n"
     ]
    }
   ],
   "source": [
    "print(metrics)"
   ]
  }
 ],
 "metadata": {
  "accelerator": "GPU",
  "colab": {
   "name": "naqanet.ipynb",
   "provenance": []
  },
  "kernelspec": {
   "display_name": "Python 3",
   "language": "python",
   "name": "python3"
  },
  "language_info": {
   "codemirror_mode": {
    "name": "ipython",
    "version": 3
   },
   "file_extension": ".py",
   "mimetype": "text/x-python",
   "name": "python",
   "nbconvert_exporter": "python",
   "pygments_lexer": "ipython3",
   "version": "3.7.5"
  }
 },
 "nbformat": 4,
 "nbformat_minor": 4
}
